{
 "cells": [
  {
   "cell_type": "markdown",
   "metadata": {},
   "source": [
    "# Exemplos de utilização de Token, Chunk e Embedding\n",
    "\n",
    "- Código desenvolvido na Aula 03.\n",
    "\n",
    "Para instalar as dependências necessárias:\n",
    "\n",
    "**Usando pip**\n",
    "```bash\n",
    "pip install nltk transformers torch gensim\n",
    "```\n",
    "\n",
    "**Usando conda**\n",
    "\n",
    "```bash\n",
    "conda install -c anaconda nltk gensim\n",
    "conda install -c pytorch pytorch torchvision torchaudio cudatoolkit=11.3\n",
    "conda install -c huggingface transformers\n",
    "```\n",
    "\n",
    "Caso possua uma GPU CUDA disponível, faça as adaptações necessárias."
   ]
  },
  {
   "cell_type": "code",
   "execution_count": null,
   "metadata": {},
   "outputs": [],
   "source": [
    "import nltk\n",
    "from nltk.tokenize import word_tokenize, sent_tokenize\n",
    "from nltk import pos_tag \n",
    "from nltk.chunk import RegexpParser\n",
    "from transformers import BertTokenizer, BertModel\n",
    "import torch\n",
    "from gensim.models import KeyedVectors"
   ]
  },
  {
   "cell_type": "markdown",
   "metadata": {},
   "source": [
    "# Token"
   ]
  },
  {
   "cell_type": "code",
   "execution_count": 19,
   "metadata": {},
   "outputs": [
    {
     "name": "stderr",
     "output_type": "stream",
     "text": [
      "[nltk_data] Downloading package punkt to /Users/m/nltk_data...\n",
      "[nltk_data]   Package punkt is already up-to-date!\n"
     ]
    },
    {
     "data": {
      "text/plain": [
       "True"
      ]
     },
     "execution_count": 19,
     "metadata": {},
     "output_type": "execute_result"
    }
   ],
   "source": [
    "nltk.download('punkt')"
   ]
  },
  {
   "cell_type": "code",
   "execution_count": 20,
   "metadata": {},
   "outputs": [
    {
     "name": "stdout",
     "output_type": "stream",
     "text": [
      "Tokenização por palavras:  ['Olá', ',', 'mundo', '.', 'Tu', 'ainda', 'é', 'vivo', 'moço', '?', 'Fiquei', 'sabendo', 'que', 'estava', 'em', 'Paris', '.']\n",
      "Tokenização por sentenças:  ['Olá, mundo.', 'Tu ainda é vivo moço?', 'Fiquei sabendo que estava em Paris.']\n"
     ]
    }
   ],
   "source": [
    "texto = \"Olá, mundo. Tu ainda é vivo moço? Fiquei sabendo que estava em Paris.\"\n",
    "\n",
    "tokens_de_palavras = word_tokenize(texto)\n",
    "tokens_de_sentencas = sent_tokenize(texto)\n",
    "\n",
    "print(\"Tokenização por palavras: \", tokens_de_palavras)\n",
    "print(\"Tokenização por sentenças: \", tokens_de_sentencas)"
   ]
  },
  {
   "cell_type": "markdown",
   "metadata": {},
   "source": [
    "# Chunk ou Chunking"
   ]
  },
  {
   "cell_type": "code",
   "execution_count": 23,
   "metadata": {},
   "outputs": [
    {
     "name": "stderr",
     "output_type": "stream",
     "text": [
      "[nltk_data] Downloading package averaged_perceptron_tagger to\n",
      "[nltk_data]     /Users/m/nltk_data...\n",
      "[nltk_data]   Package averaged_perceptron_tagger is already up-to-\n",
      "[nltk_data]       date!\n"
     ]
    },
    {
     "data": {
      "text/plain": [
       "True"
      ]
     },
     "execution_count": 23,
     "metadata": {},
     "output_type": "execute_result"
    }
   ],
   "source": [
    "nltk.download('averaged_perceptron_tagger')"
   ]
  },
  {
   "cell_type": "code",
   "execution_count": 34,
   "metadata": {},
   "outputs": [
    {
     "name": "stdout",
     "output_type": "stream",
     "text": [
      "(S\n",
      "  (NP Ontem/NNP)\n",
      "  eu/VBZ\n",
      "  (NP\n",
      "    sonhei/JJ\n",
      "    que/NN\n",
      "    estava/NN\n",
      "    em/NN\n",
      "    Moscou/NNP\n",
      "    dançando/NN\n",
      "    pagode/NN\n",
      "    russo/NN)\n",
      "  ./.)\n"
     ]
    }
   ],
   "source": [
    "texto = \"Ontem eu sonhei que estava em Moscou dançando pagode russo.\"\n",
    "text = \"The book is on the table\"\n",
    "\n",
    "tokens = word_tokenize(texto)\n",
    "tags = nltk.pos_tag(tokens)\n",
    "\n",
    "padrao = 'NP: {<DT>?<JJ>*<NN.*>+}'\n",
    "analisador_de_chunk = nltk.RegexpParser(padrao)\n",
    "\n",
    "arvore_de_chunk = analisador_de_chunk.parse(tags)\n",
    "print(arvore_de_chunk)\n",
    "# arvore_de_chunk.draw()"
   ]
  },
  {
   "cell_type": "markdown",
   "metadata": {},
   "source": [
    "# Embedding - Vetor"
   ]
  },
  {
   "cell_type": "code",
   "execution_count": 38,
   "metadata": {},
   "outputs": [],
   "source": [
    "tokenizer = BertTokenizer.from_pretrained('bert-base-cased')\n",
    "model = BertModel.from_pretrained('bert-base-cased')"
   ]
  },
  {
   "cell_type": "code",
   "execution_count": 44,
   "metadata": {},
   "outputs": [
    {
     "name": "stdout",
     "output_type": "stream",
     "text": [
      "tensor([[[ 0.1131,  0.2869, -0.0878,  ...,  0.2232,  0.4219, -0.1361],\n",
      "         [ 0.1523, -0.0709,  0.3460,  ...,  1.0850,  0.0789,  0.2768],\n",
      "         [ 0.2225, -0.1845, -0.2238,  ...,  0.5663, -0.4047,  0.2899],\n",
      "         ...,\n",
      "         [ 0.9297,  0.1958, -0.2192,  ...,  0.4083,  0.0167,  0.3775],\n",
      "         [ 0.2377,  0.7055, -0.1281,  ...,  0.9726, -0.5782,  0.3968],\n",
      "         [-0.1652, -0.1352,  0.3224,  ..., -0.3229,  1.1555, -0.7259]]])\n"
     ]
    }
   ],
   "source": [
    "# texto = \"Ontem eu sonhei que estava em Moscou dançando pagode russo.\"\n",
    "texto = \"O livro está na mesa\"\n",
    "\n",
    "tokens = tokenizer(texto, return_tensors='pt', padding=True, truncation=True)\n",
    "\n",
    "# Obtenção dos embeddings\n",
    "with torch.no_grad():\n",
    "    outputs = model(**tokens)\n",
    "\n",
    "embeddings = outputs.last_hidden_state\n",
    "print(embeddings)"
   ]
  },
  {
   "cell_type": "markdown",
   "metadata": {},
   "source": [
    "# Embedding - Similaridade"
   ]
  },
  {
   "cell_type": "code",
   "execution_count": 47,
   "metadata": {},
   "outputs": [],
   "source": [
    "# Carregar o modelo\n",
    "modelo_caminho = \"model/GoogleNews-vectors-negative300.bin.gz\"\n",
    "\n",
    "model = KeyedVectors.load_word2vec_format(modelo_caminho, binary=True)"
   ]
  },
  {
   "cell_type": "code",
   "execution_count": 62,
   "metadata": {},
   "outputs": [
    {
     "name": "stdout",
     "output_type": "stream",
     "text": [
      "Similaridade entre HQ e manga: -0.03594\n"
     ]
    }
   ],
   "source": [
    "palavra1 = 'HQ'\n",
    "embedding = model[palavra1]\n",
    "\n",
    "palavra2 = 'manga'\n",
    "\n",
    "similaridade = model.similarity(palavra1, palavra2)\n",
    "\n",
    "print(f\"Similaridade entre {palavra1} e {palavra2}: {similaridade:.5f}\")"
   ]
  },
  {
   "cell_type": "code",
   "execution_count": null,
   "metadata": {},
   "outputs": [],
   "source": []
  }
 ],
 "metadata": {
  "kernelspec": {
   "display_name": "jina",
   "language": "python",
   "name": "python3"
  },
  "language_info": {
   "codemirror_mode": {
    "name": "ipython",
    "version": 3
   },
   "file_extension": ".py",
   "mimetype": "text/x-python",
   "name": "python",
   "nbconvert_exporter": "python",
   "pygments_lexer": "ipython3",
   "version": "3.11.4"
  }
 },
 "nbformat": 4,
 "nbformat_minor": 2
}
